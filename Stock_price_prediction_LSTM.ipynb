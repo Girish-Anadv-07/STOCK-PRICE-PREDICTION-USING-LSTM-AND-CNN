{
 "cells": [
  {
   "cell_type": "code",
   "execution_count": 1,
   "metadata": {
    "id": "h4BDtMe5sUh8"
   },
   "outputs": [],
   "source": [
    "import pandas as pd\n",
    "import numpy as np\n",
    "import matplotlib.pyplot as plt\n",
    "import matplotlib\n",
    "from sklearn.preprocessing import MinMaxScaler\n",
    "from keras.layers import LSTM,Dense,Dropout\n",
    "from keras.layers import Flatten,MaxPooling1D,Bidirectional,LSTM,Dropout,TimeDistributed,MaxPool2D\n",
    "from sklearn.model_selection import TimeSeriesSplit\n",
    "from sklearn.metrics import mean_squared_error, r2_score\n",
    "import matplotlib.dates as mdates\n",
    "from sklearn import linear_model"
   ]
  },
  {
   "cell_type": "code",
   "execution_count": 2,
   "metadata": {
    "id": "ykC5fcizsYEP"
   },
   "outputs": [],
   "source": [
    "df_final = pd.read_csv(r\"C:\\Users\\karth\\Downloads\\Project_Finalyr\\TATAMOTORS.NS.csv\",na_values=['null'],index_col='Date',parse_dates=True,infer_datetime_format=True)"
   ]
  },
  {
   "cell_type": "code",
   "execution_count": 3,
   "metadata": {
    "colab": {
     "base_uri": "https://localhost:8080/",
     "height": 235
    },
    "id": "mu1OqqSEsd_Q",
    "outputId": "155cd996-0fd9-45a5-9594-34ee1888ebeb",
    "scrolled": true
   },
   "outputs": [
    {
     "data": {
      "text/html": [
       "<div>\n",
       "<style scoped>\n",
       "    .dataframe tbody tr th:only-of-type {\n",
       "        vertical-align: middle;\n",
       "    }\n",
       "\n",
       "    .dataframe tbody tr th {\n",
       "        vertical-align: top;\n",
       "    }\n",
       "\n",
       "    .dataframe thead th {\n",
       "        text-align: right;\n",
       "    }\n",
       "</style>\n",
       "<table border=\"1\" class=\"dataframe\">\n",
       "  <thead>\n",
       "    <tr style=\"text-align: right;\">\n",
       "      <th></th>\n",
       "      <th>Open</th>\n",
       "      <th>High</th>\n",
       "      <th>Low</th>\n",
       "      <th>Close</th>\n",
       "      <th>Adj Close</th>\n",
       "      <th>Volume</th>\n",
       "    </tr>\n",
       "    <tr>\n",
       "      <th>Date</th>\n",
       "      <th></th>\n",
       "      <th></th>\n",
       "      <th></th>\n",
       "      <th></th>\n",
       "      <th></th>\n",
       "      <th></th>\n",
       "    </tr>\n",
       "  </thead>\n",
       "  <tbody>\n",
       "    <tr>\n",
       "      <th>1995-12-25</th>\n",
       "      <td>72.819626</td>\n",
       "      <td>72.819626</td>\n",
       "      <td>72.819626</td>\n",
       "      <td>72.819626</td>\n",
       "      <td>53.472767</td>\n",
       "      <td>0.0</td>\n",
       "    </tr>\n",
       "    <tr>\n",
       "      <th>1995-12-26</th>\n",
       "      <td>72.819626</td>\n",
       "      <td>72.819626</td>\n",
       "      <td>72.819626</td>\n",
       "      <td>72.819626</td>\n",
       "      <td>53.472767</td>\n",
       "      <td>0.0</td>\n",
       "    </tr>\n",
       "    <tr>\n",
       "      <th>1995-12-27</th>\n",
       "      <td>72.819626</td>\n",
       "      <td>72.819626</td>\n",
       "      <td>72.819626</td>\n",
       "      <td>72.819626</td>\n",
       "      <td>53.472767</td>\n",
       "      <td>0.0</td>\n",
       "    </tr>\n",
       "    <tr>\n",
       "      <th>1995-12-28</th>\n",
       "      <td>72.819626</td>\n",
       "      <td>72.819626</td>\n",
       "      <td>72.819626</td>\n",
       "      <td>72.819626</td>\n",
       "      <td>53.472767</td>\n",
       "      <td>0.0</td>\n",
       "    </tr>\n",
       "    <tr>\n",
       "      <th>1995-12-29</th>\n",
       "      <td>72.819626</td>\n",
       "      <td>72.819626</td>\n",
       "      <td>72.819626</td>\n",
       "      <td>72.819626</td>\n",
       "      <td>53.472767</td>\n",
       "      <td>0.0</td>\n",
       "    </tr>\n",
       "  </tbody>\n",
       "</table>\n",
       "</div>"
      ],
      "text/plain": [
       "                 Open       High        Low      Close  Adj Close  Volume\n",
       "Date                                                                     \n",
       "1995-12-25  72.819626  72.819626  72.819626  72.819626  53.472767     0.0\n",
       "1995-12-26  72.819626  72.819626  72.819626  72.819626  53.472767     0.0\n",
       "1995-12-27  72.819626  72.819626  72.819626  72.819626  53.472767     0.0\n",
       "1995-12-28  72.819626  72.819626  72.819626  72.819626  53.472767     0.0\n",
       "1995-12-29  72.819626  72.819626  72.819626  72.819626  53.472767     0.0"
      ]
     },
     "execution_count": 3,
     "metadata": {},
     "output_type": "execute_result"
    }
   ],
   "source": [
    "df_final.head()"
   ]
  },
  {
   "cell_type": "code",
   "execution_count": 4,
   "metadata": {
    "colab": {
     "base_uri": "https://localhost:8080/"
    },
    "id": "HYncDd9rsfbo",
    "outputId": "f9b401c2-5091-4ab5-c42d-d1446fd8d731"
   },
   "outputs": [
    {
     "data": {
      "text/plain": [
       "(6528, 6)"
      ]
     },
     "execution_count": 4,
     "metadata": {},
     "output_type": "execute_result"
    }
   ],
   "source": [
    "df_final.shape"
   ]
  },
  {
   "cell_type": "code",
   "execution_count": 5,
   "metadata": {
    "colab": {
     "base_uri": "https://localhost:8080/",
     "height": 297
    },
    "id": "jK7pDEfcsg12",
    "outputId": "f94a99ee-cf51-4acc-b664-afebdb887a7a"
   },
   "outputs": [
    {
     "data": {
      "text/html": [
       "<div>\n",
       "<style scoped>\n",
       "    .dataframe tbody tr th:only-of-type {\n",
       "        vertical-align: middle;\n",
       "    }\n",
       "\n",
       "    .dataframe tbody tr th {\n",
       "        vertical-align: top;\n",
       "    }\n",
       "\n",
       "    .dataframe thead th {\n",
       "        text-align: right;\n",
       "    }\n",
       "</style>\n",
       "<table border=\"1\" class=\"dataframe\">\n",
       "  <thead>\n",
       "    <tr style=\"text-align: right;\">\n",
       "      <th></th>\n",
       "      <th>Open</th>\n",
       "      <th>High</th>\n",
       "      <th>Low</th>\n",
       "      <th>Close</th>\n",
       "      <th>Adj Close</th>\n",
       "      <th>Volume</th>\n",
       "    </tr>\n",
       "  </thead>\n",
       "  <tbody>\n",
       "    <tr>\n",
       "      <th>count</th>\n",
       "      <td>6513.000000</td>\n",
       "      <td>6513.000000</td>\n",
       "      <td>6513.000000</td>\n",
       "      <td>6513.000000</td>\n",
       "      <td>6513.000000</td>\n",
       "      <td>6.513000e+03</td>\n",
       "    </tr>\n",
       "    <tr>\n",
       "      <th>mean</th>\n",
       "      <td>175.282809</td>\n",
       "      <td>178.038443</td>\n",
       "      <td>172.212190</td>\n",
       "      <td>175.014564</td>\n",
       "      <td>167.821777</td>\n",
       "      <td>1.517004e+07</td>\n",
       "    </tr>\n",
       "    <tr>\n",
       "      <th>std</th>\n",
       "      <td>148.121448</td>\n",
       "      <td>149.940735</td>\n",
       "      <td>146.050027</td>\n",
       "      <td>147.901388</td>\n",
       "      <td>151.164142</td>\n",
       "      <td>2.104004e+07</td>\n",
       "    </tr>\n",
       "    <tr>\n",
       "      <th>min</th>\n",
       "      <td>11.114574</td>\n",
       "      <td>11.631977</td>\n",
       "      <td>11.028340</td>\n",
       "      <td>11.267879</td>\n",
       "      <td>9.099406</td>\n",
       "      <td>0.000000e+00</td>\n",
       "    </tr>\n",
       "    <tr>\n",
       "      <th>25%</th>\n",
       "      <td>56.395107</td>\n",
       "      <td>58.064072</td>\n",
       "      <td>55.017143</td>\n",
       "      <td>56.310650</td>\n",
       "      <td>45.254539</td>\n",
       "      <td>5.009173e+06</td>\n",
       "    </tr>\n",
       "    <tr>\n",
       "      <th>50%</th>\n",
       "      <td>130.586670</td>\n",
       "      <td>133.758163</td>\n",
       "      <td>127.640923</td>\n",
       "      <td>130.845367</td>\n",
       "      <td>120.133804</td>\n",
       "      <td>8.909026e+06</td>\n",
       "    </tr>\n",
       "    <tr>\n",
       "      <th>75%</th>\n",
       "      <td>270.500000</td>\n",
       "      <td>274.505646</td>\n",
       "      <td>265.403290</td>\n",
       "      <td>269.558716</td>\n",
       "      <td>266.600006</td>\n",
       "      <td>1.659418e+07</td>\n",
       "    </tr>\n",
       "    <tr>\n",
       "      <th>max</th>\n",
       "      <td>600.212097</td>\n",
       "      <td>605.901123</td>\n",
       "      <td>589.873047</td>\n",
       "      <td>598.134399</td>\n",
       "      <td>597.892273</td>\n",
       "      <td>3.905778e+08</td>\n",
       "    </tr>\n",
       "  </tbody>\n",
       "</table>\n",
       "</div>"
      ],
      "text/plain": [
       "              Open         High          Low        Close    Adj Close  \\\n",
       "count  6513.000000  6513.000000  6513.000000  6513.000000  6513.000000   \n",
       "mean    175.282809   178.038443   172.212190   175.014564   167.821777   \n",
       "std     148.121448   149.940735   146.050027   147.901388   151.164142   \n",
       "min      11.114574    11.631977    11.028340    11.267879     9.099406   \n",
       "25%      56.395107    58.064072    55.017143    56.310650    45.254539   \n",
       "50%     130.586670   133.758163   127.640923   130.845367   120.133804   \n",
       "75%     270.500000   274.505646   265.403290   269.558716   266.600006   \n",
       "max     600.212097   605.901123   589.873047   598.134399   597.892273   \n",
       "\n",
       "             Volume  \n",
       "count  6.513000e+03  \n",
       "mean   1.517004e+07  \n",
       "std    2.104004e+07  \n",
       "min    0.000000e+00  \n",
       "25%    5.009173e+06  \n",
       "50%    8.909026e+06  \n",
       "75%    1.659418e+07  \n",
       "max    3.905778e+08  "
      ]
     },
     "execution_count": 5,
     "metadata": {},
     "output_type": "execute_result"
    }
   ],
   "source": [
    "df_final.describe()"
   ]
  },
  {
   "cell_type": "code",
   "execution_count": 6,
   "metadata": {
    "colab": {
     "base_uri": "https://localhost:8080/"
    },
    "id": "QID5HGvhsiXC",
    "outputId": "647aaf52-322d-4eda-d3fa-c654438be760"
   },
   "outputs": [
    {
     "data": {
      "text/plain": [
       "True"
      ]
     },
     "execution_count": 6,
     "metadata": {},
     "output_type": "execute_result"
    }
   ],
   "source": [
    "# print(\"checking if any null values are present\\n\", df.isna().sum())\n",
    "df_final.isnull().values.any()"
   ]
  },
  {
   "cell_type": "code",
   "execution_count": 7,
   "metadata": {},
   "outputs": [],
   "source": [
    "df_final = df_final.fillna(method='ffill')"
   ]
  },
  {
   "cell_type": "code",
   "execution_count": 8,
   "metadata": {},
   "outputs": [
    {
     "data": {
      "text/plain": [
       "False"
      ]
     },
     "execution_count": 8,
     "metadata": {},
     "output_type": "execute_result"
    }
   ],
   "source": [
    "# print(\"checking if any null values are present\\n\", df.isna().sum())\n",
    "df_final.isnull().values.any()"
   ]
  },
  {
   "cell_type": "code",
   "execution_count": 9,
   "metadata": {
    "colab": {
     "base_uri": "https://localhost:8080/",
     "height": 289
    },
    "id": "fEMoo6HLskTX",
    "outputId": "7abec759-fff0-4a47-814f-165ac56ec863"
   },
   "outputs": [
    {
     "data": {
      "text/plain": [
       "<AxesSubplot:xlabel='Date'>"
      ]
     },
     "execution_count": 9,
     "metadata": {},
     "output_type": "execute_result"
    },
    {
     "data": {
      "image/png": "[encoded data removed]",
      "text/plain": [
       "<Figure size 432x288 with 1 Axes>"
      ]
     },
     "metadata": {
      "needs_background": "light"
     },
     "output_type": "display_data"
    }
   ],
   "source": [
    "df_final['Adj Close'].plot()"
   ]
  },
  {
   "cell_type": "code",
   "execution_count": 10,
   "metadata": {
    "id": "u4Z0VkGPspa8"
   },
   "outputs": [],
   "source": [
    "X=df_final.drop(['Adj Close'],axis=1)\n",
    "X=X.drop(['Close'],axis=1)"
   ]
  },
  {
   "cell_type": "code",
   "execution_count": 11,
   "metadata": {
    "colab": {
     "base_uri": "https://localhost:8080/",
     "height": 555
    },
    "id": "qDrdWQkdsrML",
    "outputId": "65c22ddd-e88f-4d7f-a51a-d14ddcf1a197"
   },
   "outputs": [
    {
     "data": {
      "text/plain": [
       "<AxesSubplot:title={'center':'Correlation with Adj Close'}>"
      ]
     },
     "execution_count": 11,
     "metadata": {},
     "output_type": "execute_result"
    },
    {
     "data": {
      "image/png": "[encoded data removed]",
      "text/plain": [
       "<Figure size 1440x720 with 1 Axes>"
      ]
     },
     "metadata": {
      "needs_background": "light"
     },
     "output_type": "display_data"
    }
   ],
   "source": [
    "X.corrwith(df_final['Adj Close']).plot.bar(\n",
    "        figsize = (20, 10), title = \"Correlation with Adj Close\", fontsize = 20,\n",
    "        rot = 90, grid = True)\n"
   ]
  },
  {
   "cell_type": "code",
   "execution_count": 12,
   "metadata": {
    "colab": {
     "base_uri": "https://localhost:8080/",
     "height": 235
    },
    "id": "6HcvWJ_OstDA",
    "outputId": "51ae1e1f-9805-4f5a-a5a5-6bf1b35f905c"
   },
   "outputs": [
    {
     "data": {
      "text/html": [
       "<div>\n",
       "<style scoped>\n",
       "    .dataframe tbody tr th:only-of-type {\n",
       "        vertical-align: middle;\n",
       "    }\n",
       "\n",
       "    .dataframe tbody tr th {\n",
       "        vertical-align: top;\n",
       "    }\n",
       "\n",
       "    .dataframe thead th {\n",
       "        text-align: right;\n",
       "    }\n",
       "</style>\n",
       "<table border=\"1\" class=\"dataframe\">\n",
       "  <thead>\n",
       "    <tr style=\"text-align: right;\">\n",
       "      <th></th>\n",
       "      <th>Open</th>\n",
       "      <th>High</th>\n",
       "      <th>Low</th>\n",
       "      <th>Close</th>\n",
       "      <th>Adj Close</th>\n",
       "      <th>Volume</th>\n",
       "    </tr>\n",
       "    <tr>\n",
       "      <th>Date</th>\n",
       "      <th></th>\n",
       "      <th></th>\n",
       "      <th></th>\n",
       "      <th></th>\n",
       "      <th></th>\n",
       "      <th></th>\n",
       "    </tr>\n",
       "  </thead>\n",
       "  <tbody>\n",
       "    <tr>\n",
       "      <th>1995-12-25</th>\n",
       "      <td>72.819626</td>\n",
       "      <td>72.819626</td>\n",
       "      <td>72.819626</td>\n",
       "      <td>72.819626</td>\n",
       "      <td>53.472767</td>\n",
       "      <td>0.0</td>\n",
       "    </tr>\n",
       "    <tr>\n",
       "      <th>1995-12-26</th>\n",
       "      <td>72.819626</td>\n",
       "      <td>72.819626</td>\n",
       "      <td>72.819626</td>\n",
       "      <td>72.819626</td>\n",
       "      <td>53.472767</td>\n",
       "      <td>0.0</td>\n",
       "    </tr>\n",
       "    <tr>\n",
       "      <th>1995-12-27</th>\n",
       "      <td>72.819626</td>\n",
       "      <td>72.819626</td>\n",
       "      <td>72.819626</td>\n",
       "      <td>72.819626</td>\n",
       "      <td>53.472767</td>\n",
       "      <td>0.0</td>\n",
       "    </tr>\n",
       "    <tr>\n",
       "      <th>1995-12-28</th>\n",
       "      <td>72.819626</td>\n",
       "      <td>72.819626</td>\n",
       "      <td>72.819626</td>\n",
       "      <td>72.819626</td>\n",
       "      <td>53.472767</td>\n",
       "      <td>0.0</td>\n",
       "    </tr>\n",
       "    <tr>\n",
       "      <th>1995-12-29</th>\n",
       "      <td>72.819626</td>\n",
       "      <td>72.819626</td>\n",
       "      <td>72.819626</td>\n",
       "      <td>72.819626</td>\n",
       "      <td>53.472767</td>\n",
       "      <td>0.0</td>\n",
       "    </tr>\n",
       "  </tbody>\n",
       "</table>\n",
       "</div>"
      ],
      "text/plain": [
       "                 Open       High        Low      Close  Adj Close  Volume\n",
       "Date                                                                     \n",
       "1995-12-25  72.819626  72.819626  72.819626  72.819626  53.472767     0.0\n",
       "1995-12-26  72.819626  72.819626  72.819626  72.819626  53.472767     0.0\n",
       "1995-12-27  72.819626  72.819626  72.819626  72.819626  53.472767     0.0\n",
       "1995-12-28  72.819626  72.819626  72.819626  72.819626  53.472767     0.0\n",
       "1995-12-29  72.819626  72.819626  72.819626  72.819626  53.472767     0.0"
      ]
     },
     "metadata": {},
     "output_type": "display_data"
    }
   ],
   "source": [
    "test = df_final\n",
    "# Target column\n",
    "target_adj_close = pd.DataFrame(test['Adj Close'])\n",
    "display(test.head())"
   ]
  },
  {
   "cell_type": "code",
   "execution_count": 13,
   "metadata": {
    "id": "DJvudAHLsumv"
   },
   "outputs": [],
   "source": [
    "# selecting Feature Columns\n",
    "feature_columns = ['Open', 'High', 'Low', 'Volume']"
   ]
  },
  {
   "cell_type": "code",
   "execution_count": 14,
   "metadata": {
    "colab": {
     "base_uri": "https://localhost:8080/",
     "height": 235
    },
    "id": "TlZJ5M8zsxHq",
    "outputId": "09477f8c-d873-4b30-ad36-1ca4b28a7379"
   },
   "outputs": [
    {
     "data": {
      "text/html": [
       "<div>\n",
       "<style scoped>\n",
       "    .dataframe tbody tr th:only-of-type {\n",
       "        vertical-align: middle;\n",
       "    }\n",
       "\n",
       "    .dataframe tbody tr th {\n",
       "        vertical-align: top;\n",
       "    }\n",
       "\n",
       "    .dataframe thead th {\n",
       "        text-align: right;\n",
       "    }\n",
       "</style>\n",
       "<table border=\"1\" class=\"dataframe\">\n",
       "  <thead>\n",
       "    <tr style=\"text-align: right;\">\n",
       "      <th></th>\n",
       "      <th>Open</th>\n",
       "      <th>High</th>\n",
       "      <th>Low</th>\n",
       "      <th>Volume</th>\n",
       "    </tr>\n",
       "    <tr>\n",
       "      <th>Date</th>\n",
       "      <th></th>\n",
       "      <th></th>\n",
       "      <th></th>\n",
       "      <th></th>\n",
       "    </tr>\n",
       "  </thead>\n",
       "  <tbody>\n",
       "    <tr>\n",
       "      <th>1995-12-25</th>\n",
       "      <td>0.104745</td>\n",
       "      <td>0.102963</td>\n",
       "      <td>0.106749</td>\n",
       "      <td>0.0</td>\n",
       "    </tr>\n",
       "    <tr>\n",
       "      <th>1995-12-26</th>\n",
       "      <td>0.104745</td>\n",
       "      <td>0.102963</td>\n",
       "      <td>0.106749</td>\n",
       "      <td>0.0</td>\n",
       "    </tr>\n",
       "    <tr>\n",
       "      <th>1995-12-27</th>\n",
       "      <td>0.104745</td>\n",
       "      <td>0.102963</td>\n",
       "      <td>0.106749</td>\n",
       "      <td>0.0</td>\n",
       "    </tr>\n",
       "    <tr>\n",
       "      <th>1995-12-28</th>\n",
       "      <td>0.104745</td>\n",
       "      <td>0.102963</td>\n",
       "      <td>0.106749</td>\n",
       "      <td>0.0</td>\n",
       "    </tr>\n",
       "    <tr>\n",
       "      <th>1995-12-29</th>\n",
       "      <td>0.104745</td>\n",
       "      <td>0.102963</td>\n",
       "      <td>0.106749</td>\n",
       "      <td>0.0</td>\n",
       "    </tr>\n",
       "  </tbody>\n",
       "</table>\n",
       "</div>"
      ],
      "text/plain": [
       "                Open      High       Low  Volume\n",
       "Date                                            \n",
       "1995-12-25  0.104745  0.102963  0.106749     0.0\n",
       "1995-12-26  0.104745  0.102963  0.106749     0.0\n",
       "1995-12-27  0.104745  0.102963  0.106749     0.0\n",
       "1995-12-28  0.104745  0.102963  0.106749     0.0\n",
       "1995-12-29  0.104745  0.102963  0.106749     0.0"
      ]
     },
     "execution_count": 14,
     "metadata": {},
     "output_type": "execute_result"
    }
   ],
   "source": [
    "from sklearn.preprocessing import MinMaxScaler\n",
    "scaler = MinMaxScaler()\n",
    "feature_minmax_transform_data = scaler.fit_transform(test[feature_columns])\n",
    "feature_minmax_transform = pd.DataFrame(columns=feature_columns, data=feature_minmax_transform_data, index=test.index)\n",
    "feature_minmax_transform.head()"
   ]
  },
  {
   "cell_type": "code",
   "execution_count": 15,
   "metadata": {
    "colab": {
     "base_uri": "https://localhost:8080/",
     "height": 1000
    },
    "id": "XwhkQK-8syig",
    "outputId": "e09b7224-3ca9-462f-8da0-452bdafebbe5"
   },
   "outputs": [
    {
     "data": {
      "text/html": [
       "<div>\n",
       "<style scoped>\n",
       "    .dataframe tbody tr th:only-of-type {\n",
       "        vertical-align: middle;\n",
       "    }\n",
       "\n",
       "    .dataframe tbody tr th {\n",
       "        vertical-align: top;\n",
       "    }\n",
       "\n",
       "    .dataframe thead th {\n",
       "        text-align: right;\n",
       "    }\n",
       "</style>\n",
       "<table border=\"1\" class=\"dataframe\">\n",
       "  <thead>\n",
       "    <tr style=\"text-align: right;\">\n",
       "      <th></th>\n",
       "      <th>Open</th>\n",
       "      <th>High</th>\n",
       "      <th>Low</th>\n",
       "      <th>Volume</th>\n",
       "    </tr>\n",
       "    <tr>\n",
       "      <th>Date</th>\n",
       "      <th></th>\n",
       "      <th></th>\n",
       "      <th></th>\n",
       "      <th></th>\n",
       "    </tr>\n",
       "  </thead>\n",
       "  <tbody>\n",
       "    <tr>\n",
       "      <th>1995-12-25</th>\n",
       "      <td>0.104745</td>\n",
       "      <td>0.102963</td>\n",
       "      <td>0.106749</td>\n",
       "      <td>0.0</td>\n",
       "    </tr>\n",
       "    <tr>\n",
       "      <th>1995-12-26</th>\n",
       "      <td>0.104745</td>\n",
       "      <td>0.102963</td>\n",
       "      <td>0.106749</td>\n",
       "      <td>0.0</td>\n",
       "    </tr>\n",
       "    <tr>\n",
       "      <th>1995-12-27</th>\n",
       "      <td>0.104745</td>\n",
       "      <td>0.102963</td>\n",
       "      <td>0.106749</td>\n",
       "      <td>0.0</td>\n",
       "    </tr>\n",
       "    <tr>\n",
       "      <th>1995-12-28</th>\n",
       "      <td>0.104745</td>\n",
       "      <td>0.102963</td>\n",
       "      <td>0.106749</td>\n",
       "      <td>0.0</td>\n",
       "    </tr>\n",
       "    <tr>\n",
       "      <th>1995-12-29</th>\n",
       "      <td>0.104745</td>\n",
       "      <td>0.102963</td>\n",
       "      <td>0.106749</td>\n",
       "      <td>0.0</td>\n",
       "    </tr>\n",
       "  </tbody>\n",
       "</table>\n",
       "</div>"
      ],
      "text/plain": [
       "                Open      High       Low  Volume\n",
       "Date                                            \n",
       "1995-12-25  0.104745  0.102963  0.106749     0.0\n",
       "1995-12-26  0.104745  0.102963  0.106749     0.0\n",
       "1995-12-27  0.104745  0.102963  0.106749     0.0\n",
       "1995-12-28  0.104745  0.102963  0.106749     0.0\n",
       "1995-12-29  0.104745  0.102963  0.106749     0.0"
      ]
     },
     "metadata": {},
     "output_type": "display_data"
    },
    {
     "name": "stdout",
     "output_type": "stream",
     "text": [
      "Shape of features :  (6528, 4)\n",
      "Shape of target :  (6528, 1)\n"
     ]
    },
    {
     "data": {
      "text/html": [
       "<div>\n",
       "<style scoped>\n",
       "    .dataframe tbody tr th:only-of-type {\n",
       "        vertical-align: middle;\n",
       "    }\n",
       "\n",
       "    .dataframe tbody tr th {\n",
       "        vertical-align: top;\n",
       "    }\n",
       "\n",
       "    .dataframe thead th {\n",
       "        text-align: right;\n",
       "    }\n",
       "</style>\n",
       "<table border=\"1\" class=\"dataframe\">\n",
       "  <thead>\n",
       "    <tr style=\"text-align: right;\">\n",
       "      <th></th>\n",
       "      <th>Open</th>\n",
       "      <th>High</th>\n",
       "      <th>Low</th>\n",
       "      <th>Volume</th>\n",
       "    </tr>\n",
       "    <tr>\n",
       "      <th>Date</th>\n",
       "      <th></th>\n",
       "      <th></th>\n",
       "      <th></th>\n",
       "      <th></th>\n",
       "    </tr>\n",
       "  </thead>\n",
       "  <tbody>\n",
       "    <tr>\n",
       "      <th>2021-11-12</th>\n",
       "      <td>0.841687</td>\n",
       "      <td>0.837866</td>\n",
       "      <td>0.840159</td>\n",
       "      <td>0.053080</td>\n",
       "    </tr>\n",
       "    <tr>\n",
       "      <th>2021-11-15</th>\n",
       "      <td>0.840498</td>\n",
       "      <td>0.846869</td>\n",
       "      <td>0.852511</td>\n",
       "      <td>0.046124</td>\n",
       "    </tr>\n",
       "    <tr>\n",
       "      <th>2021-11-16</th>\n",
       "      <td>0.841602</td>\n",
       "      <td>0.866978</td>\n",
       "      <td>0.855448</td>\n",
       "      <td>0.143116</td>\n",
       "    </tr>\n",
       "    <tr>\n",
       "      <th>2021-11-17</th>\n",
       "      <td>0.864263</td>\n",
       "      <td>0.883553</td>\n",
       "      <td>0.879721</td>\n",
       "      <td>0.124081</td>\n",
       "    </tr>\n",
       "    <tr>\n",
       "      <th>2021-11-18</th>\n",
       "      <td>0.883276</td>\n",
       "      <td>0.879346</td>\n",
       "      <td>0.846983</td>\n",
       "      <td>0.120841</td>\n",
       "    </tr>\n",
       "  </tbody>\n",
       "</table>\n",
       "</div>"
      ],
      "text/plain": [
       "                Open      High       Low    Volume\n",
       "Date                                              \n",
       "2021-11-12  0.841687  0.837866  0.840159  0.053080\n",
       "2021-11-15  0.840498  0.846869  0.852511  0.046124\n",
       "2021-11-16  0.841602  0.866978  0.855448  0.143116\n",
       "2021-11-17  0.864263  0.883553  0.879721  0.124081\n",
       "2021-11-18  0.883276  0.879346  0.846983  0.120841"
      ]
     },
     "metadata": {},
     "output_type": "display_data"
    },
    {
     "data": {
      "text/html": [
       "<div>\n",
       "<style scoped>\n",
       "    .dataframe tbody tr th:only-of-type {\n",
       "        vertical-align: middle;\n",
       "    }\n",
       "\n",
       "    .dataframe tbody tr th {\n",
       "        vertical-align: top;\n",
       "    }\n",
       "\n",
       "    .dataframe thead th {\n",
       "        text-align: right;\n",
       "    }\n",
       "</style>\n",
       "<table border=\"1\" class=\"dataframe\">\n",
       "  <thead>\n",
       "    <tr style=\"text-align: right;\">\n",
       "      <th></th>\n",
       "      <th>Adj Close</th>\n",
       "    </tr>\n",
       "    <tr>\n",
       "      <th>Date</th>\n",
       "      <th></th>\n",
       "    </tr>\n",
       "  </thead>\n",
       "  <tbody>\n",
       "    <tr>\n",
       "      <th>2021-11-12</th>\n",
       "      <td>505.450012</td>\n",
       "    </tr>\n",
       "    <tr>\n",
       "      <th>2021-11-15</th>\n",
       "      <td>519.049988</td>\n",
       "    </tr>\n",
       "    <tr>\n",
       "      <th>2021-11-16</th>\n",
       "      <td>530.150024</td>\n",
       "    </tr>\n",
       "    <tr>\n",
       "      <th>2021-11-17</th>\n",
       "      <td>509.700012</td>\n",
       "    </tr>\n",
       "    <tr>\n",
       "      <th>2021-11-18</th>\n",
       "      <td>486.100006</td>\n",
       "    </tr>\n",
       "  </tbody>\n",
       "</table>\n",
       "</div>"
      ],
      "text/plain": [
       "             Adj Close\n",
       "Date                  \n",
       "2021-11-12  505.450012\n",
       "2021-11-15  519.049988\n",
       "2021-11-16  530.150024\n",
       "2021-11-17  509.700012\n",
       "2021-11-18  486.100006"
      ]
     },
     "metadata": {},
     "output_type": "display_data"
    },
    {
     "name": "stdout",
     "output_type": "stream",
     "text": [
      "\n",
      " -----After process------ \n",
      "\n",
      "Shape of features :  (6438, 4)\n",
      "Shape of target :  (6438, 1)\n"
     ]
    },
    {
     "data": {
      "text/html": [
       "<div>\n",
       "<style scoped>\n",
       "    .dataframe tbody tr th:only-of-type {\n",
       "        vertical-align: middle;\n",
       "    }\n",
       "\n",
       "    .dataframe tbody tr th {\n",
       "        vertical-align: top;\n",
       "    }\n",
       "\n",
       "    .dataframe thead th {\n",
       "        text-align: right;\n",
       "    }\n",
       "</style>\n",
       "<table border=\"1\" class=\"dataframe\">\n",
       "  <thead>\n",
       "    <tr style=\"text-align: right;\">\n",
       "      <th></th>\n",
       "      <th>Adj Close</th>\n",
       "    </tr>\n",
       "    <tr>\n",
       "      <th>Date</th>\n",
       "      <th></th>\n",
       "    </tr>\n",
       "  </thead>\n",
       "  <tbody>\n",
       "    <tr>\n",
       "      <th>2021-07-05</th>\n",
       "      <td>316.899994</td>\n",
       "    </tr>\n",
       "    <tr>\n",
       "      <th>2021-07-06</th>\n",
       "      <td>317.100006</td>\n",
       "    </tr>\n",
       "    <tr>\n",
       "      <th>2021-07-07</th>\n",
       "      <td>306.350006</td>\n",
       "    </tr>\n",
       "    <tr>\n",
       "      <th>2021-07-08</th>\n",
       "      <td>306.299988</td>\n",
       "    </tr>\n",
       "    <tr>\n",
       "      <th>2021-07-09</th>\n",
       "      <td>307.450012</td>\n",
       "    </tr>\n",
       "  </tbody>\n",
       "</table>\n",
       "</div>"
      ],
      "text/plain": [
       "             Adj Close\n",
       "Date                  \n",
       "2021-07-05  316.899994\n",
       "2021-07-06  317.100006\n",
       "2021-07-07  306.350006\n",
       "2021-07-08  306.299988\n",
       "2021-07-09  307.450012"
      ]
     },
     "metadata": {},
     "output_type": "display_data"
    }
   ],
   "source": [
    "display(feature_minmax_transform.head())\n",
    "print('Shape of features : ', feature_minmax_transform.shape)\n",
    "print('Shape of target : ', target_adj_close.shape)\n",
    "\n",
    "# Shift target array because we want to predict the n + 1 day value\n",
    "\n",
    "\n",
    "target_adj_close = target_adj_close.shift(-1)\n",
    "validation_y = target_adj_close[-90:-1]\n",
    "target_adj_close = target_adj_close[:-90]\n",
    "\n",
    "# Taking last 90 rows of data to be validation set\n",
    "validation_X = feature_minmax_transform[-90:-1]\n",
    "feature_minmax_transform = feature_minmax_transform[:-90]\n",
    "display(validation_X.tail())\n",
    "display(validation_y.tail())\n",
    "\n",
    "print(\"\\n -----After process------ \\n\")\n",
    "print('Shape of features : ', feature_minmax_transform.shape)\n",
    "print('Shape of target : ', target_adj_close.shape)\n",
    "display(target_adj_close.tail())"
   ]
  },
  {
   "cell_type": "code",
   "execution_count": 16,
   "metadata": {
    "id": "g57MV_A-s0Rz"
   },
   "outputs": [],
   "source": [
    "ts_split= TimeSeriesSplit(n_splits=10)\n",
    "for train_index, test_index in ts_split.split(feature_minmax_transform):\n",
    "        X_train, X_test = feature_minmax_transform[:len(train_index)], feature_minmax_transform[len(train_index): (len(train_index)+len(test_index))]\n",
    "        y_train, y_test = target_adj_close[:len(train_index)].values.ravel(), target_adj_close[len(train_index): (len(train_index)+len(test_index))].values.ravel()"
   ]
  },
  {
   "cell_type": "code",
   "execution_count": 17,
   "metadata": {
    "colab": {
     "base_uri": "https://localhost:8080/"
    },
    "id": "uVCbMOi7s37y",
    "outputId": "9f31959a-b5ff-4602-b8bf-11ed3726f838"
   },
   "outputs": [
    {
     "data": {
      "text/plain": [
       "(5853, 4)"
      ]
     },
     "execution_count": 17,
     "metadata": {},
     "output_type": "execute_result"
    }
   ],
   "source": [
    "\n",
    "X_train.shape"
   ]
  },
  {
   "cell_type": "code",
   "execution_count": 18,
   "metadata": {
    "colab": {
     "base_uri": "https://localhost:8080/"
    },
    "id": "t9gldDoqs6Kt",
    "outputId": "0ed51adf-9606-4ce9-fc67-0e78825ea781"
   },
   "outputs": [
    {
     "data": {
      "text/plain": [
       "(585, 4)"
      ]
     },
     "execution_count": 18,
     "metadata": {},
     "output_type": "execute_result"
    }
   ],
   "source": [
    "X_test.shape"
   ]
  },
  {
   "cell_type": "code",
   "execution_count": 19,
   "metadata": {
    "colab": {
     "base_uri": "https://localhost:8080/"
    },
    "id": "qlZVRxg6s7bz",
    "outputId": "ef0ba8e6-a3ce-4967-dcf5-d776c3fa2976"
   },
   "outputs": [
    {
     "data": {
      "text/plain": [
       "(5853,)"
      ]
     },
     "execution_count": 19,
     "metadata": {},
     "output_type": "execute_result"
    }
   ],
   "source": [
    "y_train.shape"
   ]
  },
  {
   "cell_type": "code",
   "execution_count": 20,
   "metadata": {
    "colab": {
     "base_uri": "https://localhost:8080/"
    },
    "id": "ompSIj8Bs9Tb",
    "outputId": "ab207b30-426f-4785-b483-3db90785e9d5"
   },
   "outputs": [
    {
     "data": {
      "text/plain": [
       "(585,)"
      ]
     },
     "execution_count": 20,
     "metadata": {},
     "output_type": "execute_result"
    }
   ],
   "source": [
    "y_test.shape"
   ]
  },
  {
   "cell_type": "code",
   "execution_count": 21,
   "metadata": {
    "id": "5ilwkxl7s_El"
   },
   "outputs": [],
   "source": [
    "def validate_result(model, model_name):\n",
    "    predicted = model.predict(validation_X)\n",
    "    RSME_score = np.sqrt(mean_squared_error(validation_y, predicted))\n",
    "    print('RMSE: ', RSME_score)\n",
    "    \n",
    "    R2_score = r2_score(validation_y, predicted)\n",
    "    print('R2 score: ', R2_score)\n",
    "\n",
    "    plt.plot(validation_y.index, predicted,'r', label='Predict')\n",
    "    plt.plot(validation_y.index, validation_y,'b', label='Actual')\n",
    "    plt.ylabel('Price')\n",
    "    plt.gca().xaxis.set_major_formatter(mdates.DateFormatter('%Y-%m-%d'))\n",
    "    plt.gca().xaxis.set_major_locator(mdates.MonthLocator())\n",
    "    plt.title(model_name + ' Predict vs Actual')\n",
    "    plt.legend(loc='upper right')\n",
    "    plt.show()"
   ]
  },
  {
   "cell_type": "code",
   "execution_count": 22,
   "metadata": {
    "id": "--I03rrmtCsa"
   },
   "outputs": [
    {
     "name": "stdout",
     "output_type": "stream",
     "text": [
      "4\n"
     ]
    }
   ],
   "source": [
    "X_train =np.array(X_train)\n",
    "X_test =np.array(X_test)\n",
    "\n",
    "X_tr_t = X_train.reshape(X_train.shape[0], 1, X_train.shape[1])\n",
    "X_tst_t = X_test.reshape(X_test.shape[0], 1, X_test.shape[1])\n",
    "print( X_train.shape[1])"
   ]
  },
  {
   "cell_type": "code",
   "execution_count": 23,
   "metadata": {
    "colab": {
     "base_uri": "https://localhost:8080/"
    },
    "id": "2MEoA6AKtFIr",
    "outputId": "61fcfed7-f731-4fbd-aeea-d434e7d4a9c6"
   },
   "outputs": [
    {
     "name": "stdout",
     "output_type": "stream",
     "text": [
      "Epoch 1/40\n",
      "732/732 [==============================] - 2s 1ms/step - loss: 1342.2496\n",
      "Epoch 2/40\n",
      "732/732 [==============================] - 1s 1ms/step - loss: 532.7249\n",
      "Epoch 3/40\n",
      "732/732 [==============================] - 1s 1ms/step - loss: 327.2177\n",
      "Epoch 4/40\n",
      "732/732 [==============================] - 1s 1ms/step - loss: 202.6965\n",
      "Epoch 5/40\n",
      "732/732 [==============================] - 1s 1ms/step - loss: 133.2819\n",
      "Epoch 6/40\n",
      "732/732 [==============================] - 1s 1ms/step - loss: 98.6390\n",
      "Epoch 7/40\n",
      "732/732 [==============================] - 1s 1ms/step - loss: 82.4655\n",
      "Epoch 8/40\n",
      "732/732 [==============================] - 1s 1ms/step - loss: 74.5050\n",
      "Epoch 9/40\n",
      "732/732 [==============================] - 1s 1ms/step - loss: 69.8656\n",
      "Epoch 10/40\n",
      "732/732 [==============================] - 1s 1ms/step - loss: 66.5718\n",
      "Epoch 11/40\n",
      "732/732 [==============================] - 1s 978us/step - loss: 63.8965\n",
      "Epoch 12/40\n",
      "732/732 [==============================] - 1s 949us/step - loss: 61.5809\n",
      "Epoch 13/40\n",
      "732/732 [==============================] - 1s 1000us/step - loss: 59.5282\n",
      "Epoch 14/40\n",
      "732/732 [==============================] - 1s 1ms/step - loss: 57.6943\n",
      "Epoch 15/40\n",
      "732/732 [==============================] - 1s 974us/step - loss: 56.0526\n",
      "Epoch 16/40\n",
      "732/732 [==============================] - 1s 980us/step - loss: 54.5833\n",
      "Epoch 17/40\n",
      "732/732 [==============================] - 1s 965us/step - loss: 53.2699\n",
      "Epoch 18/40\n",
      "732/732 [==============================] - 1s 1ms/step - loss: 52.0981\n",
      "Epoch 19/40\n",
      "732/732 [==============================] - 1s 985us/step - loss: 51.0548\n",
      "Epoch 20/40\n",
      "732/732 [==============================] - 1s 939us/step - loss: 50.1281\n",
      "Epoch 21/40\n",
      "732/732 [==============================] - 1s 1ms/step - loss: 49.3066\n",
      "Epoch 22/40\n",
      "732/732 [==============================] - 1s 1ms/step - loss: 48.5798\n",
      "Epoch 23/40\n",
      "732/732 [==============================] - 1s 1ms/step - loss: 47.9377\n",
      "Epoch 24/40\n",
      "732/732 [==============================] - 1s 1ms/step - loss: 47.3710\n",
      "Epoch 25/40\n",
      "732/732 [==============================] - 1s 1ms/step - loss: 46.8714\n",
      "Epoch 26/40\n",
      "732/732 [==============================] - 1s 1ms/step - loss: 46.4314\n",
      "Epoch 27/40\n",
      "732/732 [==============================] - 1s 1ms/step - loss: 46.0442\n",
      "Epoch 28/40\n",
      "732/732 [==============================] - 1s 1ms/step - loss: 45.7039\n",
      "Epoch 29/40\n",
      "732/732 [==============================] - 1s 1ms/step - loss: 45.4051\n",
      "Epoch 30/40\n",
      "732/732 [==============================] - 1s 1ms/step - loss: 45.1433\n",
      "Epoch 31/40\n",
      "732/732 [==============================] - 1s 1ms/step - loss: 44.9143\n",
      "Epoch 32/40\n",
      "732/732 [==============================] - 1s 1ms/step - loss: 44.7143\n",
      "Epoch 33/40\n",
      "732/732 [==============================] - 1s 1ms/step - loss: 44.5401\n",
      "Epoch 34/40\n",
      "732/732 [==============================] - 1s 1ms/step - loss: 44.3887\n",
      "Epoch 35/40\n",
      "732/732 [==============================] - 1s 1ms/step - loss: 44.2575\n",
      "Epoch 36/40\n",
      "732/732 [==============================] - 1s 1ms/step - loss: 44.1442\n",
      "Epoch 37/40\n",
      "732/732 [==============================] - 1s 1ms/step - loss: 44.0465\n",
      "Epoch 38/40\n",
      "732/732 [==============================] - 1s 1ms/step - loss: 43.9628\n",
      "Epoch 39/40\n",
      "732/732 [==============================] - 1s 1ms/step - loss: 43.8913\n",
      "Epoch 40/40\n",
      "732/732 [==============================] - 1s 1ms/step - loss: 43.8307\n"
     ]
    }
   ],
   "source": [
    "from keras.models import Sequential\n",
    "from keras.layers import Dense\n",
    "import keras.backend as K\n",
    "from keras.callbacks import EarlyStopping\n",
    "from tensorflow.keras.optimizers import Adam\n",
    "from keras.models import load_model\n",
    "from keras.layers import LSTM\n",
    "K.clear_session()\n",
    "model_lstm = Sequential()\n",
    "model_lstm.add(LSTM(16, input_shape=(1, X_train.shape[1]), activation='relu', return_sequences=False))\n",
    "model_lstm.add(Dense(16))\n",
    "# model_lstm.add(Dropout(0.25))\n",
    "model_lstm.add(Dense(1))\n",
    "model_lstm.compile(loss='mean_squared_error', optimizer='adam')\n",
    "early_stop = EarlyStopping(monitor='loss', patience=5, verbose=1)\n",
    "history_model_lstm = model_lstm.fit(X_tr_t, y_train, epochs=40, batch_size=8, verbose=1, shuffle=False)"
   ]
  },
  {
   "cell_type": "code",
   "execution_count": 24,
   "metadata": {
    "colab": {
     "base_uri": "https://localhost:8080/"
    },
    "id": "M0O3_O70tHYj",
    "outputId": "eb291f78-d58d-4625-b608-9f8138caba09"
   },
   "outputs": [
    {
     "name": "stdout",
     "output_type": "stream",
     "text": [
      "The R2 score on the Train set is:\t0.993\n",
      "The R2 score on the Test set is:\t0.986\n"
     ]
    }
   ],
   "source": [
    "y_pred_test_lstm = model_lstm.predict(X_tst_t)\n",
    "y_train_pred_lstm = model_lstm.predict(X_tr_t)\n",
    "print(\"The R2 score on the Train set is:\\t{:0.3f}\".format(r2_score(y_train, y_train_pred_lstm)))\n",
    "r2_train = r2_score(y_train, y_train_pred_lstm)\n",
    "\n",
    "print(\"The R2 score on the Test set is:\\t{:0.3f}\".format(r2_score(y_test, y_pred_test_lstm)))\n",
    "r2_test = r2_score(y_test, y_pred_test_lstm)"
   ]
  },
  {
   "cell_type": "code",
   "execution_count": 25,
   "metadata": {
    "colab": {
     "base_uri": "https://localhost:8080/"
    },
    "id": "8q3VD4ywhFs9",
    "outputId": "664a049b-a254-477f-d520-28eb3c6ee248"
   },
   "outputs": [
    {
     "name": "stdout",
     "output_type": "stream",
     "text": [
      "19/19 [==============================] - 0s 760us/step - loss: 81.1186\n"
     ]
    }
   ],
   "source": [
    "score_lstm= model_lstm.evaluate(X_tst_t, y_test)"
   ]
  },
  {
   "cell_type": "code",
   "execution_count": 26,
   "metadata": {
    "colab": {
     "base_uri": "https://localhost:8080/"
    },
    "id": "YA-tIK0StcYw",
    "outputId": "39ff5d0e-9178-4645-e47c-36a596596c00"
   },
   "outputs": [
    {
     "name": "stdout",
     "output_type": "stream",
     "text": [
      "19/19 [==============================] - 0s 735us/step - loss: 81.1186\n"
     ]
    }
   ],
   "source": [
    "score_lstm= model_lstm.evaluate(X_tst_t, y_test)"
   ]
  },
  {
   "cell_type": "code",
   "execution_count": 27,
   "metadata": {
    "colab": {
     "base_uri": "https://localhost:8080/"
    },
    "id": "QPNsHcALtlk4",
    "outputId": "a167a5a0-987e-498b-d512-5a5a0130b833"
   },
   "outputs": [
    {
     "name": "stdout",
     "output_type": "stream",
     "text": [
      "LSTM: 81.118607\n"
     ]
    }
   ],
   "source": [
    "print('LSTM: %f'%score_lstm)"
   ]
  },
  {
   "cell_type": "code",
   "execution_count": 28,
   "metadata": {
    "id": "IEWSdf1htpak"
   },
   "outputs": [],
   "source": [
    "y_pred_test_LSTM = model_lstm.predict(X_tst_t)"
   ]
  },
  {
   "cell_type": "code",
   "execution_count": 29,
   "metadata": {
    "colab": {
     "base_uri": "https://localhost:8080/",
     "height": 295
    },
    "id": "TOhv6ag3ttQL",
    "outputId": "e26035ed-12e2-462a-efa4-a9ac36e3ceda"
   },
   "outputs": [
    {
     "data": {
      "image/png": "[encoded data removed]",
      "text/plain": [
       "<Figure size 432x288 with 1 Axes>"
      ]
     },
     "metadata": {
      "needs_background": "light"
     },
     "output_type": "display_data"
    }
   ],
   "source": [
    "# plt.plot(y_test, label='True')\n",
    "# plt.plot(y_pred_test_LSTM, label='LSTM')\n",
    "# plt.title(\"LSTM's_Prediction \")\n",
    "# plt.xlabel('Observation')\n",
    "# plt.ylabel('USD')\n",
    "# plt.legend()\n",
    "# plt.show()\n",
    "plt.plot(y_test, color = 'blue', label = ' Stock Price')\n",
    "plt.plot(y_pred_test_LSTM, color = 'orange', label = 'Predicted  Stock Price')\n",
    "plt.title(\"LSTM's Stock Price Prediction for Tata Motors\")\n",
    "plt.xlabel('Time')\n",
    "plt.ylabel(' Stock Price')\n",
    "plt.legend()\n",
    "plt.show()"
   ]
  },
  {
   "cell_type": "code",
   "execution_count": 30,
   "metadata": {
    "id": "uwEQlq98XLR2"
   },
   "outputs": [],
   "source": [
    "col1 = pd.DataFrame(y_test, columns=['True'])\n",
    "\n",
    "col2 = pd.DataFrame(y_pred_test_LSTM, columns=['LSTM_prediction'])\n",
    "\n",
    "# col3 = pd.DataFrame(history_model_lstm.history['loss'], columns=['Loss_LSTM'])\n",
    "results = pd.concat([col1, col2], axis=1)\n",
    "results.to_excel('PredictionResults_LSTM.xlsx')"
   ]
  }
 ],
 "metadata": {
  "colab": {
   "collapsed_sections": [],
   "name": "FOR_VALUES.ipynb",
   "provenance": []
  },
  "kernelspec": {
   "display_name": "Python 3 (ipykernel)",
   "language": "python",
   "name": "python3"
  },
  "language_info": {
   "codemirror_mode": {
    "name": "ipython",
    "version": 3
   },
   "file_extension": ".py",
   "mimetype": "text/x-python",
   "name": "python",
   "nbconvert_exporter": "python",
   "pygments_lexer": "ipython3",
   "version": "3.8.12"
  }
 },
 "nbformat": 4,
 "nbformat_minor": 1
}
