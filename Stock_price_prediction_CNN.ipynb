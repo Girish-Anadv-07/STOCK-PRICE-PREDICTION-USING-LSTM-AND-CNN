{
 "cells": [
  {
   "cell_type": "code",
   "execution_count": 2,
   "id": "d89c9667",
   "metadata": {},
   "outputs": [],
   "source": [
    "import pandas as pd\n",
    "import numpy as np\n",
    "from sklearn.model_selection import train_test_split\n",
    "from sklearn.metrics import mean_squared_error, r2_score\n",
    "from keras.models import Sequential\n",
    "from sklearn import preprocessing\n",
    "from keras.layers import Conv1D,Flatten,MaxPooling1D,Bidirectional,LSTM,Dropout,TimeDistributed,MaxPool2D\n",
    "from keras.layers import Dense,GlobalAveragePooling2D\n",
    "import matplotlib.pyplot as plt\n",
    "import os\n",
    "import pprint\n",
    "import tensorflow as tf"
   ]
  },
  {
   "cell_type": "code",
   "execution_count": 3,
   "id": "d33f671f",
   "metadata": {},
   "outputs": [
    {
     "data": {
      "text/html": [
       "<div>\n",
       "<style scoped>\n",
       "    .dataframe tbody tr th:only-of-type {\n",
       "        vertical-align: middle;\n",
       "    }\n",
       "\n",
       "    .dataframe tbody tr th {\n",
       "        vertical-align: top;\n",
       "    }\n",
       "\n",
       "    .dataframe thead th {\n",
       "        text-align: right;\n",
       "    }\n",
       "</style>\n",
       "<table border=\"1\" class=\"dataframe\">\n",
       "  <thead>\n",
       "    <tr style=\"text-align: right;\">\n",
       "      <th></th>\n",
       "      <th>Date</th>\n",
       "      <th>Open</th>\n",
       "      <th>High</th>\n",
       "      <th>Low</th>\n",
       "      <th>Close</th>\n",
       "      <th>Adj Close</th>\n",
       "      <th>Volume</th>\n",
       "    </tr>\n",
       "  </thead>\n",
       "  <tbody>\n",
       "    <tr>\n",
       "      <th>0</th>\n",
       "      <td>1996-01-01</td>\n",
       "      <td>15.859429</td>\n",
       "      <td>15.944529</td>\n",
       "      <td>15.754989</td>\n",
       "      <td>15.917452</td>\n",
       "      <td>10.509537</td>\n",
       "      <td>48051995.0</td>\n",
       "    </tr>\n",
       "    <tr>\n",
       "      <th>1</th>\n",
       "      <td>1996-01-02</td>\n",
       "      <td>15.878770</td>\n",
       "      <td>15.956133</td>\n",
       "      <td>15.677626</td>\n",
       "      <td>15.793671</td>\n",
       "      <td>10.427811</td>\n",
       "      <td>77875009.0</td>\n",
       "    </tr>\n",
       "    <tr>\n",
       "      <th>2</th>\n",
       "      <td>1996-01-03</td>\n",
       "      <td>16.052837</td>\n",
       "      <td>16.783918</td>\n",
       "      <td>15.878770</td>\n",
       "      <td>15.913584</td>\n",
       "      <td>10.506985</td>\n",
       "      <td>96602936.0</td>\n",
       "    </tr>\n",
       "    <tr>\n",
       "      <th>3</th>\n",
       "      <td>1996-01-04</td>\n",
       "      <td>15.762726</td>\n",
       "      <td>15.813012</td>\n",
       "      <td>15.553845</td>\n",
       "      <td>15.766594</td>\n",
       "      <td>10.409932</td>\n",
       "      <td>100099436.0</td>\n",
       "    </tr>\n",
       "    <tr>\n",
       "      <th>4</th>\n",
       "      <td>1996-01-05</td>\n",
       "      <td>15.704703</td>\n",
       "      <td>15.704703</td>\n",
       "      <td>15.522900</td>\n",
       "      <td>15.658285</td>\n",
       "      <td>10.338422</td>\n",
       "      <td>76935930.0</td>\n",
       "    </tr>\n",
       "  </tbody>\n",
       "</table>\n",
       "</div>"
      ],
      "text/plain": [
       "         Date       Open       High        Low      Close  Adj Close  \\\n",
       "0  1996-01-01  15.859429  15.944529  15.754989  15.917452  10.509537   \n",
       "1  1996-01-02  15.878770  15.956133  15.677626  15.793671  10.427811   \n",
       "2  1996-01-03  16.052837  16.783918  15.878770  15.913584  10.506985   \n",
       "3  1996-01-04  15.762726  15.813012  15.553845  15.766594  10.409932   \n",
       "4  1996-01-05  15.704703  15.704703  15.522900  15.658285  10.338422   \n",
       "\n",
       "        Volume  \n",
       "0   48051995.0  \n",
       "1   77875009.0  \n",
       "2   96602936.0  \n",
       "3  100099436.0  \n",
       "4   76935930.0  "
      ]
     },
     "execution_count": 3,
     "metadata": {},
     "output_type": "execute_result"
    }
   ],
   "source": [
    "#filename = 'AAPL'\n",
    "stock = pd.read_csv(r\"C:\\Users\\karth\\Downloads\\Project_Finalyr\\RELIANCE.NS.csv\")\n",
    "stock.head()"
   ]
  },
  {
   "cell_type": "code",
   "execution_count": 4,
   "id": "902dff21",
   "metadata": {},
   "outputs": [
    {
     "data": {
      "text/plain": [
       "(6522, 7)"
      ]
     },
     "execution_count": 4,
     "metadata": {},
     "output_type": "execute_result"
    }
   ],
   "source": [
    "stock.shape"
   ]
  },
  {
   "cell_type": "code",
   "execution_count": 5,
   "id": "0a26e95d",
   "metadata": {},
   "outputs": [
    {
     "data": {
      "text/html": [
       "<div>\n",
       "<style scoped>\n",
       "    .dataframe tbody tr th:only-of-type {\n",
       "        vertical-align: middle;\n",
       "    }\n",
       "\n",
       "    .dataframe tbody tr th {\n",
       "        vertical-align: top;\n",
       "    }\n",
       "\n",
       "    .dataframe thead th {\n",
       "        text-align: right;\n",
       "    }\n",
       "</style>\n",
       "<table border=\"1\" class=\"dataframe\">\n",
       "  <thead>\n",
       "    <tr style=\"text-align: right;\">\n",
       "      <th></th>\n",
       "      <th>Open</th>\n",
       "      <th>High</th>\n",
       "      <th>Low</th>\n",
       "      <th>Close</th>\n",
       "      <th>Adj Close</th>\n",
       "      <th>Volume</th>\n",
       "    </tr>\n",
       "  </thead>\n",
       "  <tbody>\n",
       "    <tr>\n",
       "      <th>count</th>\n",
       "      <td>6504.000000</td>\n",
       "      <td>6504.000000</td>\n",
       "      <td>6504.000000</td>\n",
       "      <td>6504.000000</td>\n",
       "      <td>6504.000000</td>\n",
       "      <td>6.504000e+03</td>\n",
       "    </tr>\n",
       "    <tr>\n",
       "      <th>mean</th>\n",
       "      <td>458.859794</td>\n",
       "      <td>464.607796</td>\n",
       "      <td>452.564438</td>\n",
       "      <td>458.325896</td>\n",
       "      <td>439.181946</td>\n",
       "      <td>3.008009e+07</td>\n",
       "    </tr>\n",
       "    <tr>\n",
       "      <th>std</th>\n",
       "      <td>533.712776</td>\n",
       "      <td>539.689633</td>\n",
       "      <td>526.903597</td>\n",
       "      <td>532.939318</td>\n",
       "      <td>532.885896</td>\n",
       "      <td>4.932459e+07</td>\n",
       "    </tr>\n",
       "    <tr>\n",
       "      <th>min</th>\n",
       "      <td>11.836550</td>\n",
       "      <td>11.890704</td>\n",
       "      <td>11.763055</td>\n",
       "      <td>11.890704</td>\n",
       "      <td>7.850866</td>\n",
       "      <td>0.000000e+00</td>\n",
       "    </tr>\n",
       "    <tr>\n",
       "      <th>25%</th>\n",
       "      <td>50.231842</td>\n",
       "      <td>51.059628</td>\n",
       "      <td>49.208717</td>\n",
       "      <td>50.258919</td>\n",
       "      <td>39.579466</td>\n",
       "      <td>7.011007e+06</td>\n",
       "    </tr>\n",
       "    <tr>\n",
       "      <th>50%</th>\n",
       "      <td>391.959610</td>\n",
       "      <td>396.330673</td>\n",
       "      <td>386.461716</td>\n",
       "      <td>391.773880</td>\n",
       "      <td>364.196426</td>\n",
       "      <td>1.312527e+07</td>\n",
       "    </tr>\n",
       "    <tr>\n",
       "      <th>75%</th>\n",
       "      <td>525.023315</td>\n",
       "      <td>530.001144</td>\n",
       "      <td>518.807236</td>\n",
       "      <td>523.704544</td>\n",
       "      <td>489.048843</td>\n",
       "      <td>3.230377e+07</td>\n",
       "    </tr>\n",
       "    <tr>\n",
       "      <th>max</th>\n",
       "      <td>2742.750000</td>\n",
       "      <td>2751.350098</td>\n",
       "      <td>2708.000000</td>\n",
       "      <td>2731.850098</td>\n",
       "      <td>2731.850098</td>\n",
       "      <td>6.686620e+08</td>\n",
       "    </tr>\n",
       "  </tbody>\n",
       "</table>\n",
       "</div>"
      ],
      "text/plain": [
       "              Open         High          Low        Close    Adj Close  \\\n",
       "count  6504.000000  6504.000000  6504.000000  6504.000000  6504.000000   \n",
       "mean    458.859794   464.607796   452.564438   458.325896   439.181946   \n",
       "std     533.712776   539.689633   526.903597   532.939318   532.885896   \n",
       "min      11.836550    11.890704    11.763055    11.890704     7.850866   \n",
       "25%      50.231842    51.059628    49.208717    50.258919    39.579466   \n",
       "50%     391.959610   396.330673   386.461716   391.773880   364.196426   \n",
       "75%     525.023315   530.001144   518.807236   523.704544   489.048843   \n",
       "max    2742.750000  2751.350098  2708.000000  2731.850098  2731.850098   \n",
       "\n",
       "             Volume  \n",
       "count  6.504000e+03  \n",
       "mean   3.008009e+07  \n",
       "std    4.932459e+07  \n",
       "min    0.000000e+00  \n",
       "25%    7.011007e+06  \n",
       "50%    1.312527e+07  \n",
       "75%    3.230377e+07  \n",
       "max    6.686620e+08  "
      ]
     },
     "execution_count": 5,
     "metadata": {},
     "output_type": "execute_result"
    }
   ],
   "source": [
    "stock.describe()"
   ]
  },
  {
   "cell_type": "code",
   "execution_count": 6,
   "id": "e95970f2",
   "metadata": {},
   "outputs": [
    {
     "data": {
      "text/plain": [
       "True"
      ]
     },
     "execution_count": 6,
     "metadata": {},
     "output_type": "execute_result"
    }
   ],
   "source": [
    "# print(\"checking if any null values are present\\n\", df.isna().sum())\n",
    "stock.isnull().values.any()"
   ]
  },
  {
   "cell_type": "code",
   "execution_count": 7,
   "id": "c20353a6",
   "metadata": {},
   "outputs": [],
   "source": [
    "# stock.fillna(value=None, method=None, axis=0, inplace=False, limit=None, downcast=None)\n",
    "stock = stock.fillna(method='ffill')"
   ]
  },
  {
   "cell_type": "code",
   "execution_count": 8,
   "id": "67dd1676",
   "metadata": {},
   "outputs": [
    {
     "data": {
      "text/plain": [
       "False"
      ]
     },
     "execution_count": 8,
     "metadata": {},
     "output_type": "execute_result"
    }
   ],
   "source": [
    "stock.isnull().values.any()"
   ]
  },
  {
   "cell_type": "code",
   "execution_count": 9,
   "id": "bff45c73",
   "metadata": {},
   "outputs": [
    {
     "data": {
      "text/plain": [
       "<AxesSubplot:>"
      ]
     },
     "execution_count": 9,
     "metadata": {},
     "output_type": "execute_result"
    },
    {
     "data": {
      "image/png": "[encoded data removed]",
      "text/plain": [
       "<Figure size 432x288 with 1 Axes>"
      ]
     },
     "metadata": {
      "needs_background": "light"
     },
     "output_type": "display_data"
    }
   ],
   "source": [
    "stock['Adj Close'].plot()"
   ]
  },
  {
   "cell_type": "code",
   "execution_count": 10,
   "id": "5f6b2d9d",
   "metadata": {},
   "outputs": [],
   "source": [
    "X=stock.drop(['Adj Close'],axis=1)\n",
    "X=X.drop(['Close'],axis=1)"
   ]
  },
  {
   "cell_type": "code",
   "execution_count": 11,
   "id": "0c48209e",
   "metadata": {},
   "outputs": [
    {
     "data": {
      "text/plain": [
       "<AxesSubplot:title={'center':'Correlation with Adj Close'}>"
      ]
     },
     "execution_count": 11,
     "metadata": {},
     "output_type": "execute_result"
    },
    {
     "data": {
      "image/png": "[encoded data removed]",
      "text/plain": [
       "<Figure size 1440x720 with 1 Axes>"
      ]
     },
     "metadata": {
      "needs_background": "light"
     },
     "output_type": "display_data"
    }
   ],
   "source": [
    "X.corrwith(stock['Adj Close']).plot.bar(\n",
    "        figsize = (20, 10), title = \"Correlation with Adj Close\", fontsize = 20,\n",
    "        rot = 90, grid = True)"
   ]
  },
  {
   "cell_type": "code",
   "execution_count": 12,
   "id": "d806279e",
   "metadata": {},
   "outputs": [
    {
     "data": {
      "text/html": [
       "<div>\n",
       "<style scoped>\n",
       "    .dataframe tbody tr th:only-of-type {\n",
       "        vertical-align: middle;\n",
       "    }\n",
       "\n",
       "    .dataframe tbody tr th {\n",
       "        vertical-align: top;\n",
       "    }\n",
       "\n",
       "    .dataframe thead th {\n",
       "        text-align: right;\n",
       "    }\n",
       "</style>\n",
       "<table border=\"1\" class=\"dataframe\">\n",
       "  <thead>\n",
       "    <tr style=\"text-align: right;\">\n",
       "      <th></th>\n",
       "      <th>Date</th>\n",
       "      <th>Open</th>\n",
       "      <th>High</th>\n",
       "      <th>Low</th>\n",
       "      <th>Close</th>\n",
       "      <th>Adj Close</th>\n",
       "      <th>Volume</th>\n",
       "    </tr>\n",
       "  </thead>\n",
       "  <tbody>\n",
       "    <tr>\n",
       "      <th>0</th>\n",
       "      <td>1996-01-01</td>\n",
       "      <td>15.859429</td>\n",
       "      <td>15.944529</td>\n",
       "      <td>15.754989</td>\n",
       "      <td>15.917452</td>\n",
       "      <td>10.509537</td>\n",
       "      <td>48051995.0</td>\n",
       "    </tr>\n",
       "    <tr>\n",
       "      <th>1</th>\n",
       "      <td>1996-01-02</td>\n",
       "      <td>15.878770</td>\n",
       "      <td>15.956133</td>\n",
       "      <td>15.677626</td>\n",
       "      <td>15.793671</td>\n",
       "      <td>10.427811</td>\n",
       "      <td>77875009.0</td>\n",
       "    </tr>\n",
       "    <tr>\n",
       "      <th>2</th>\n",
       "      <td>1996-01-03</td>\n",
       "      <td>16.052837</td>\n",
       "      <td>16.783918</td>\n",
       "      <td>15.878770</td>\n",
       "      <td>15.913584</td>\n",
       "      <td>10.506985</td>\n",
       "      <td>96602936.0</td>\n",
       "    </tr>\n",
       "    <tr>\n",
       "      <th>3</th>\n",
       "      <td>1996-01-04</td>\n",
       "      <td>15.762726</td>\n",
       "      <td>15.813012</td>\n",
       "      <td>15.553845</td>\n",
       "      <td>15.766594</td>\n",
       "      <td>10.409932</td>\n",
       "      <td>100099436.0</td>\n",
       "    </tr>\n",
       "    <tr>\n",
       "      <th>4</th>\n",
       "      <td>1996-01-05</td>\n",
       "      <td>15.704703</td>\n",
       "      <td>15.704703</td>\n",
       "      <td>15.522900</td>\n",
       "      <td>15.658285</td>\n",
       "      <td>10.338422</td>\n",
       "      <td>76935930.0</td>\n",
       "    </tr>\n",
       "  </tbody>\n",
       "</table>\n",
       "</div>"
      ],
      "text/plain": [
       "         Date       Open       High        Low      Close  Adj Close  \\\n",
       "0  1996-01-01  15.859429  15.944529  15.754989  15.917452  10.509537   \n",
       "1  1996-01-02  15.878770  15.956133  15.677626  15.793671  10.427811   \n",
       "2  1996-01-03  16.052837  16.783918  15.878770  15.913584  10.506985   \n",
       "3  1996-01-04  15.762726  15.813012  15.553845  15.766594  10.409932   \n",
       "4  1996-01-05  15.704703  15.704703  15.522900  15.658285  10.338422   \n",
       "\n",
       "        Volume  \n",
       "0   48051995.0  \n",
       "1   77875009.0  \n",
       "2   96602936.0  \n",
       "3  100099436.0  \n",
       "4   76935930.0  "
      ]
     },
     "metadata": {},
     "output_type": "display_data"
    }
   ],
   "source": [
    "test = stock\n",
    "# Target column\n",
    "target_adj_close = pd.DataFrame(test['Adj Close'])\n",
    "display(test.head())"
   ]
  },
  {
   "cell_type": "code",
   "execution_count": 13,
   "id": "b606207d",
   "metadata": {},
   "outputs": [],
   "source": [
    "# selecting Feature Columns\n",
    "feature_columns = ['Open', 'High', 'Low', 'Volume']"
   ]
  },
  {
   "cell_type": "code",
   "execution_count": 14,
   "id": "2e11d6aa",
   "metadata": {},
   "outputs": [
    {
     "data": {
      "text/html": [
       "<div>\n",
       "<style scoped>\n",
       "    .dataframe tbody tr th:only-of-type {\n",
       "        vertical-align: middle;\n",
       "    }\n",
       "\n",
       "    .dataframe tbody tr th {\n",
       "        vertical-align: top;\n",
       "    }\n",
       "\n",
       "    .dataframe thead th {\n",
       "        text-align: right;\n",
       "    }\n",
       "</style>\n",
       "<table border=\"1\" class=\"dataframe\">\n",
       "  <thead>\n",
       "    <tr style=\"text-align: right;\">\n",
       "      <th></th>\n",
       "      <th>Open</th>\n",
       "      <th>High</th>\n",
       "      <th>Low</th>\n",
       "      <th>Volume</th>\n",
       "    </tr>\n",
       "  </thead>\n",
       "  <tbody>\n",
       "    <tr>\n",
       "      <th>0</th>\n",
       "      <td>0.001473</td>\n",
       "      <td>0.001480</td>\n",
       "      <td>0.001481</td>\n",
       "      <td>0.071863</td>\n",
       "    </tr>\n",
       "    <tr>\n",
       "      <th>1</th>\n",
       "      <td>0.001480</td>\n",
       "      <td>0.001484</td>\n",
       "      <td>0.001452</td>\n",
       "      <td>0.116464</td>\n",
       "    </tr>\n",
       "    <tr>\n",
       "      <th>2</th>\n",
       "      <td>0.001544</td>\n",
       "      <td>0.001786</td>\n",
       "      <td>0.001526</td>\n",
       "      <td>0.144472</td>\n",
       "    </tr>\n",
       "    <tr>\n",
       "      <th>3</th>\n",
       "      <td>0.001438</td>\n",
       "      <td>0.001432</td>\n",
       "      <td>0.001406</td>\n",
       "      <td>0.149701</td>\n",
       "    </tr>\n",
       "    <tr>\n",
       "      <th>4</th>\n",
       "      <td>0.001416</td>\n",
       "      <td>0.001392</td>\n",
       "      <td>0.001394</td>\n",
       "      <td>0.115060</td>\n",
       "    </tr>\n",
       "  </tbody>\n",
       "</table>\n",
       "</div>"
      ],
      "text/plain": [
       "       Open      High       Low    Volume\n",
       "0  0.001473  0.001480  0.001481  0.071863\n",
       "1  0.001480  0.001484  0.001452  0.116464\n",
       "2  0.001544  0.001786  0.001526  0.144472\n",
       "3  0.001438  0.001432  0.001406  0.149701\n",
       "4  0.001416  0.001392  0.001394  0.115060"
      ]
     },
     "execution_count": 14,
     "metadata": {},
     "output_type": "execute_result"
    }
   ],
   "source": [
    "from sklearn.preprocessing import MinMaxScaler\n",
    "scaler = MinMaxScaler()\n",
    "feature_minmax_transform_data = scaler.fit_transform(test[feature_columns])\n",
    "feature_minmax_transform = pd.DataFrame(columns=feature_columns, data=feature_minmax_transform_data, index=test.index)\n",
    "feature_minmax_transform.head()"
   ]
  },
  {
   "cell_type": "code",
   "execution_count": 15,
   "id": "fca384b6",
   "metadata": {},
   "outputs": [
    {
     "data": {
      "text/html": [
       "<div>\n",
       "<style scoped>\n",
       "    .dataframe tbody tr th:only-of-type {\n",
       "        vertical-align: middle;\n",
       "    }\n",
       "\n",
       "    .dataframe tbody tr th {\n",
       "        vertical-align: top;\n",
       "    }\n",
       "\n",
       "    .dataframe thead th {\n",
       "        text-align: right;\n",
       "    }\n",
       "</style>\n",
       "<table border=\"1\" class=\"dataframe\">\n",
       "  <thead>\n",
       "    <tr style=\"text-align: right;\">\n",
       "      <th></th>\n",
       "      <th>Open</th>\n",
       "      <th>High</th>\n",
       "      <th>Low</th>\n",
       "      <th>Volume</th>\n",
       "    </tr>\n",
       "  </thead>\n",
       "  <tbody>\n",
       "    <tr>\n",
       "      <th>0</th>\n",
       "      <td>0.001473</td>\n",
       "      <td>0.001480</td>\n",
       "      <td>0.001481</td>\n",
       "      <td>0.071863</td>\n",
       "    </tr>\n",
       "    <tr>\n",
       "      <th>1</th>\n",
       "      <td>0.001480</td>\n",
       "      <td>0.001484</td>\n",
       "      <td>0.001452</td>\n",
       "      <td>0.116464</td>\n",
       "    </tr>\n",
       "    <tr>\n",
       "      <th>2</th>\n",
       "      <td>0.001544</td>\n",
       "      <td>0.001786</td>\n",
       "      <td>0.001526</td>\n",
       "      <td>0.144472</td>\n",
       "    </tr>\n",
       "    <tr>\n",
       "      <th>3</th>\n",
       "      <td>0.001438</td>\n",
       "      <td>0.001432</td>\n",
       "      <td>0.001406</td>\n",
       "      <td>0.149701</td>\n",
       "    </tr>\n",
       "    <tr>\n",
       "      <th>4</th>\n",
       "      <td>0.001416</td>\n",
       "      <td>0.001392</td>\n",
       "      <td>0.001394</td>\n",
       "      <td>0.115060</td>\n",
       "    </tr>\n",
       "  </tbody>\n",
       "</table>\n",
       "</div>"
      ],
      "text/plain": [
       "       Open      High       Low    Volume\n",
       "0  0.001473  0.001480  0.001481  0.071863\n",
       "1  0.001480  0.001484  0.001452  0.116464\n",
       "2  0.001544  0.001786  0.001526  0.144472\n",
       "3  0.001438  0.001432  0.001406  0.149701\n",
       "4  0.001416  0.001392  0.001394  0.115060"
      ]
     },
     "metadata": {},
     "output_type": "display_data"
    },
    {
     "name": "stdout",
     "output_type": "stream",
     "text": [
      "Shape of features :  (6522, 4)\n",
      "Shape of target :  (6522, 1)\n"
     ]
    },
    {
     "data": {
      "text/html": [
       "<div>\n",
       "<style scoped>\n",
       "    .dataframe tbody tr th:only-of-type {\n",
       "        vertical-align: middle;\n",
       "    }\n",
       "\n",
       "    .dataframe tbody tr th {\n",
       "        vertical-align: top;\n",
       "    }\n",
       "\n",
       "    .dataframe thead th {\n",
       "        text-align: right;\n",
       "    }\n",
       "</style>\n",
       "<table border=\"1\" class=\"dataframe\">\n",
       "  <thead>\n",
       "    <tr style=\"text-align: right;\">\n",
       "      <th></th>\n",
       "      <th>Open</th>\n",
       "      <th>High</th>\n",
       "      <th>Low</th>\n",
       "      <th>Volume</th>\n",
       "    </tr>\n",
       "  </thead>\n",
       "  <tbody>\n",
       "    <tr>\n",
       "      <th>6516</th>\n",
       "      <td>0.925776</td>\n",
       "      <td>0.933983</td>\n",
       "      <td>0.936041</td>\n",
       "      <td>0.007400</td>\n",
       "    </tr>\n",
       "    <tr>\n",
       "      <th>6517</th>\n",
       "      <td>0.934143</td>\n",
       "      <td>0.944296</td>\n",
       "      <td>0.943996</td>\n",
       "      <td>0.006013</td>\n",
       "    </tr>\n",
       "    <tr>\n",
       "      <th>6518</th>\n",
       "      <td>0.947728</td>\n",
       "      <td>0.945555</td>\n",
       "      <td>0.948818</td>\n",
       "      <td>0.003315</td>\n",
       "    </tr>\n",
       "    <tr>\n",
       "      <th>6519</th>\n",
       "      <td>0.937493</td>\n",
       "      <td>0.935626</td>\n",
       "      <td>0.921001</td>\n",
       "      <td>0.007825</td>\n",
       "    </tr>\n",
       "    <tr>\n",
       "      <th>6520</th>\n",
       "      <td>0.910726</td>\n",
       "      <td>0.907865</td>\n",
       "      <td>0.908391</td>\n",
       "      <td>0.007041</td>\n",
       "    </tr>\n",
       "  </tbody>\n",
       "</table>\n",
       "</div>"
      ],
      "text/plain": [
       "          Open      High       Low    Volume\n",
       "6516  0.925776  0.933983  0.936041  0.007400\n",
       "6517  0.934143  0.944296  0.943996  0.006013\n",
       "6518  0.947728  0.945555  0.948818  0.003315\n",
       "6519  0.937493  0.935626  0.921001  0.007825\n",
       "6520  0.910726  0.907865  0.908391  0.007041"
      ]
     },
     "metadata": {},
     "output_type": "display_data"
    },
    {
     "data": {
      "text/html": [
       "<div>\n",
       "<style scoped>\n",
       "    .dataframe tbody tr th:only-of-type {\n",
       "        vertical-align: middle;\n",
       "    }\n",
       "\n",
       "    .dataframe tbody tr th {\n",
       "        vertical-align: top;\n",
       "    }\n",
       "\n",
       "    .dataframe thead th {\n",
       "        text-align: right;\n",
       "    }\n",
       "</style>\n",
       "<table border=\"1\" class=\"dataframe\">\n",
       "  <thead>\n",
       "    <tr style=\"text-align: right;\">\n",
       "      <th></th>\n",
       "      <th>Adj Close</th>\n",
       "    </tr>\n",
       "  </thead>\n",
       "  <tbody>\n",
       "    <tr>\n",
       "      <th>6516</th>\n",
       "      <td>2593.100098</td>\n",
       "    </tr>\n",
       "    <tr>\n",
       "      <th>6517</th>\n",
       "      <td>2577.800049</td>\n",
       "    </tr>\n",
       "    <tr>\n",
       "      <th>6518</th>\n",
       "      <td>2517.899902</td>\n",
       "    </tr>\n",
       "    <tr>\n",
       "      <th>6519</th>\n",
       "      <td>2464.000000</td>\n",
       "    </tr>\n",
       "    <tr>\n",
       "      <th>6520</th>\n",
       "      <td>2473.300049</td>\n",
       "    </tr>\n",
       "  </tbody>\n",
       "</table>\n",
       "</div>"
      ],
      "text/plain": [
       "        Adj Close\n",
       "6516  2593.100098\n",
       "6517  2577.800049\n",
       "6518  2517.899902\n",
       "6519  2464.000000\n",
       "6520  2473.300049"
      ]
     },
     "metadata": {},
     "output_type": "display_data"
    },
    {
     "name": "stdout",
     "output_type": "stream",
     "text": [
      "\n",
      " -----After process------ \n",
      "\n",
      "Shape of features :  (6432, 4)\n",
      "Shape of target :  (6432, 1)\n"
     ]
    },
    {
     "data": {
      "text/html": [
       "<div>\n",
       "<style scoped>\n",
       "    .dataframe tbody tr th:only-of-type {\n",
       "        vertical-align: middle;\n",
       "    }\n",
       "\n",
       "    .dataframe tbody tr th {\n",
       "        vertical-align: top;\n",
       "    }\n",
       "\n",
       "    .dataframe thead th {\n",
       "        text-align: right;\n",
       "    }\n",
       "</style>\n",
       "<table border=\"1\" class=\"dataframe\">\n",
       "  <thead>\n",
       "    <tr style=\"text-align: right;\">\n",
       "      <th></th>\n",
       "      <th>Adj Close</th>\n",
       "    </tr>\n",
       "  </thead>\n",
       "  <tbody>\n",
       "    <tr>\n",
       "      <th>6427</th>\n",
       "      <td>2150.199951</td>\n",
       "    </tr>\n",
       "    <tr>\n",
       "      <th>6428</th>\n",
       "      <td>2124.800049</td>\n",
       "    </tr>\n",
       "    <tr>\n",
       "      <th>6429</th>\n",
       "      <td>2110.050049</td>\n",
       "    </tr>\n",
       "    <tr>\n",
       "      <th>6430</th>\n",
       "      <td>2092.600098</td>\n",
       "    </tr>\n",
       "    <tr>\n",
       "      <th>6431</th>\n",
       "      <td>2071.199951</td>\n",
       "    </tr>\n",
       "  </tbody>\n",
       "</table>\n",
       "</div>"
      ],
      "text/plain": [
       "        Adj Close\n",
       "6427  2150.199951\n",
       "6428  2124.800049\n",
       "6429  2110.050049\n",
       "6430  2092.600098\n",
       "6431  2071.199951"
      ]
     },
     "metadata": {},
     "output_type": "display_data"
    }
   ],
   "source": [
    "display(feature_minmax_transform.head())\n",
    "print('Shape of features : ', feature_minmax_transform.shape)\n",
    "print('Shape of target : ', target_adj_close.shape)\n",
    "\n",
    "# Shift target array because we want to predict the n + 1 day value\n",
    "\n",
    "\n",
    "target_adj_close = target_adj_close.shift(-1)\n",
    "validation_y = target_adj_close[-90:-1]\n",
    "target_adj_close = target_adj_close[:-90]\n",
    "\n",
    "# Taking last 90 rows of data to be validation set\n",
    "validation_X = feature_minmax_transform[-90:-1]\n",
    "feature_minmax_transform = feature_minmax_transform[:-90]\n",
    "display(validation_X.tail())\n",
    "display(validation_y.tail())\n",
    "\n",
    "print(\"\\n -----After process------ \\n\")\n",
    "print('Shape of features : ', feature_minmax_transform.shape)\n",
    "print('Shape of target : ', target_adj_close.shape)\n",
    "display(target_adj_close.tail())"
   ]
  },
  {
   "cell_type": "code",
   "execution_count": 16,
   "id": "91171562",
   "metadata": {},
   "outputs": [],
   "source": [
    "# scaler = preprocessing.MinMaxScaler()\n",
    "# scaled_values = scaler.fit_transform(stock.iloc[:,1:4])\n",
    "# stock.iloc[:,1:4] = scaled_values\n",
    "#\n",
    "# y_scaler = preprocessing.MinMaxScaler()\n",
    "# scaled_values = y_scaler.fit_transform(np.array(stock.iloc[:,4]).reshape(-1,1))\n",
    "# stock.iloc[:,4] = scaled_values\n",
    "#\n",
    "# scaler = preprocessing.MinMaxScaler()\n",
    "# scaled_values = scaler.fit_transform(stock.iloc[:,5:])\n",
    "# stock.iloc[:,5:] = scaled_values\n",
    "window_size = 50\n",
    "week = 7\n",
    "X = []\n",
    "Y = []\n",
    "\n",
    "for i in range(0 , len(stock) - window_size -1 , 1):\n",
    "    first = stock.iloc[i, 4]\n",
    "    temp = []\n",
    "    temp2 = []\n",
    "    for j in range(window_size):\n",
    "        temp.append((stock.iloc[i + j, 4] - first) / first)\n",
    "    # for j in range(week):\n",
    "    temp2.append((stock.iloc[i +window_size, 4] - first) / first)\n",
    "    # X.append(np.array(stock.iloc[i:i+window_size,4]).reshape(50,1))\n",
    "    # Y.append(np.array(stock.iloc[i+window_size,4]).reshape(1,1))\n",
    "    # print(stock2.iloc[i:i+window_size,4])\n",
    "    X.append(np.array(temp).reshape(50, 1))\n",
    "    Y.append(np.array(temp2).reshape(1,1))"
   ]
  },
  {
   "cell_type": "code",
   "execution_count": 26,
   "id": "b8130a4b",
   "metadata": {},
   "outputs": [
    {
     "ename": "AttributeError",
     "evalue": "'list' object has no attribute 'shape'",
     "output_type": "error",
     "traceback": [
      "\u001b[1;31m---------------------------------------------------------------------------\u001b[0m",
      "\u001b[1;31mAttributeError\u001b[0m                            Traceback (most recent call last)",
      "\u001b[1;32m~\\AppData\\Local\\Temp/ipykernel_16600/4272426292.py\u001b[0m in \u001b[0;36m<module>\u001b[1;34m\u001b[0m\n\u001b[0;32m      1\u001b[0m \u001b[0mX\u001b[0m\u001b[1;33m[\u001b[0m\u001b[1;36m0\u001b[0m\u001b[1;33m]\u001b[0m\u001b[1;33m\u001b[0m\u001b[1;33m\u001b[0m\u001b[0m\n\u001b[1;32m----> 2\u001b[1;33m \u001b[0mX\u001b[0m\u001b[1;33m.\u001b[0m\u001b[0mshape\u001b[0m\u001b[1;33m\u001b[0m\u001b[1;33m\u001b[0m\u001b[0m\n\u001b[0m",
      "\u001b[1;31mAttributeError\u001b[0m: 'list' object has no attribute 'shape'"
     ]
    }
   ],
   "source": [
    "X[0]\n",
    "X.shape"
   ]
  },
  {
   "cell_type": "code",
   "execution_count": 18,
   "id": "25f4de2d",
   "metadata": {},
   "outputs": [
    {
     "name": "stdout",
     "output_type": "stream",
     "text": [
      "5823\n",
      "648\n"
     ]
    }
   ],
   "source": [
    "train_X,test_X,train_label,test_label = train_test_split(X, Y, test_size=0.1,shuffle=False)\n",
    "len_t = len(train_X)\n",
    "# train_X,valid_X,train_label,valid_label = train_test_split(train_X, train_label, test_size=0.2,shuffle=True)\n",
    "\n",
    "print(len(train_X))\n",
    "print(len(test_X))\n",
    "train_X = np.array(train_X)\n",
    "test_X = np.array(test_X)\n",
    "train_label = np.array(train_label)\n",
    "test_label = np.array(test_label)\n",
    "# valid_label = np.array(valid_label)\n",
    "# valid_X = np.array(valid_X)\n",
    "train_X = train_X.reshape(train_X.shape[0],1,50,1)\n",
    "test_X = test_X.reshape(test_X.shape[0],1,50,1)"
   ]
  },
  {
   "cell_type": "code",
   "execution_count": 19,
   "id": "a503fd4a",
   "metadata": {},
   "outputs": [
    {
     "name": "stdout",
     "output_type": "stream",
     "text": [
      "Epoch 1/40\n",
      "91/91 [==============================] - 4s 23ms/step - loss: 0.0118 - val_loss: 0.0041\n",
      "Epoch 2/40\n",
      "91/91 [==============================] - 1s 16ms/step - loss: 0.0079 - val_loss: 0.0041\n",
      "Epoch 3/40\n",
      "91/91 [==============================] - 2s 18ms/step - loss: 0.0074 - val_loss: 0.0040\n",
      "Epoch 4/40\n",
      "91/91 [==============================] - 1s 15ms/step - loss: 0.0070 - val_loss: 0.0038\n",
      "Epoch 5/40\n",
      "91/91 [==============================] - 1s 15ms/step - loss: 0.0068 - val_loss: 0.0035\n",
      "Epoch 6/40\n",
      "91/91 [==============================] - 1s 15ms/step - loss: 0.0067 - val_loss: 0.0034\n",
      "Epoch 7/40\n",
      "91/91 [==============================] - 1s 15ms/step - loss: 0.0066 - val_loss: 0.0034\n",
      "Epoch 8/40\n",
      "91/91 [==============================] - 1s 15ms/step - loss: 0.0063 - val_loss: 0.0034\n",
      "Epoch 9/40\n",
      "91/91 [==============================] - 1s 16ms/step - loss: 0.0062 - val_loss: 0.0034\n",
      "Epoch 10/40\n",
      "91/91 [==============================] - 1s 16ms/step - loss: 0.0063 - val_loss: 0.0033\n",
      "Epoch 11/40\n",
      "91/91 [==============================] - 1s 15ms/step - loss: 0.0062 - val_loss: 0.0032\n",
      "Epoch 12/40\n",
      "91/91 [==============================] - 1s 16ms/step - loss: 0.0059 - val_loss: 0.0034\n",
      "Epoch 13/40\n",
      "91/91 [==============================] - 1s 16ms/step - loss: 0.0061 - val_loss: 0.0033\n",
      "Epoch 14/40\n",
      "91/91 [==============================] - 1s 15ms/step - loss: 0.0059 - val_loss: 0.0033\n",
      "Epoch 15/40\n",
      "91/91 [==============================] - 1s 15ms/step - loss: 0.0060 - val_loss: 0.0034\n",
      "Epoch 16/40\n",
      "91/91 [==============================] - 1s 15ms/step - loss: 0.0061 - val_loss: 0.0032\n",
      "Epoch 17/40\n",
      "91/91 [==============================] - 1s 15ms/step - loss: 0.0059 - val_loss: 0.0032\n",
      "Epoch 18/40\n",
      "91/91 [==============================] - 2s 18ms/step - loss: 0.0058 - val_loss: 0.0032\n",
      "Epoch 19/40\n",
      "91/91 [==============================] - 2s 17ms/step - loss: 0.0059 - val_loss: 0.0032\n",
      "Epoch 20/40\n",
      "91/91 [==============================] - 2s 18ms/step - loss: 0.0058 - val_loss: 0.0031\n",
      "Epoch 21/40\n",
      "91/91 [==============================] - 2s 19ms/step - loss: 0.0058 - val_loss: 0.0031\n",
      "Epoch 22/40\n",
      "91/91 [==============================] - 2s 17ms/step - loss: 0.0057 - val_loss: 0.0032\n",
      "Epoch 23/40\n",
      "91/91 [==============================] - 2s 18ms/step - loss: 0.0054 - val_loss: 0.0033\n",
      "Epoch 24/40\n",
      "91/91 [==============================] - 2s 18ms/step - loss: 0.0058 - val_loss: 0.0031\n",
      "Epoch 25/40\n",
      "91/91 [==============================] - 2s 17ms/step - loss: 0.0058 - val_loss: 0.0030\n",
      "Epoch 26/40\n",
      "91/91 [==============================] - 1s 16ms/step - loss: 0.0057 - val_loss: 0.0030\n",
      "Epoch 27/40\n",
      "91/91 [==============================] - 1s 16ms/step - loss: 0.0056 - val_loss: 0.0031\n",
      "Epoch 28/40\n",
      "91/91 [==============================] - 2s 17ms/step - loss: 0.0057 - val_loss: 0.0030\n",
      "Epoch 29/40\n",
      "91/91 [==============================] - 1s 16ms/step - loss: 0.0057 - val_loss: 0.0032\n",
      "Epoch 30/40\n",
      "91/91 [==============================] - 2s 17ms/step - loss: 0.0057 - val_loss: 0.0031\n",
      "Epoch 31/40\n",
      "91/91 [==============================] - 2s 18ms/step - loss: 0.0055 - val_loss: 0.0030\n",
      "Epoch 32/40\n",
      "91/91 [==============================] - 2s 17ms/step - loss: 0.0056 - val_loss: 0.0031\n",
      "Epoch 33/40\n",
      "91/91 [==============================] - 2s 17ms/step - loss: 0.0056 - val_loss: 0.0032\n",
      "Epoch 34/40\n",
      "91/91 [==============================] - 2s 18ms/step - loss: 0.0054 - val_loss: 0.0030\n",
      "Epoch 35/40\n",
      "91/91 [==============================] - 2s 17ms/step - loss: 0.0055 - val_loss: 0.0030\n",
      "Epoch 36/40\n",
      "91/91 [==============================] - 2s 18ms/step - loss: 0.0056 - val_loss: 0.0030\n",
      "Epoch 37/40\n",
      "91/91 [==============================] - 2s 17ms/step - loss: 0.0056 - val_loss: 0.0030\n",
      "Epoch 38/40\n",
      "91/91 [==============================] - 2s 17ms/step - loss: 0.0056 - val_loss: 0.0030\n",
      "Epoch 39/40\n",
      "91/91 [==============================] - 2s 23ms/step - loss: 0.0056 - val_loss: 0.0031\n",
      "Epoch 40/40\n",
      "91/91 [==============================] - 2s 23ms/step - loss: 0.0054 - val_loss: 0.0031\n",
      "21/21 [==============================] - 0s 4ms/step - loss: 0.0031\n",
      "0.0030814858619123697\n"
     ]
    }
   ],
   "source": [
    "model = Sequential()\n",
    "#add model layers\n",
    "model.add(TimeDistributed(Conv1D(128, kernel_size=1, activation='relu', input_shape=(None,50,1))))\n",
    "model.add(TimeDistributed(MaxPooling1D(2)))\n",
    "model.add(TimeDistributed(Conv1D(256, kernel_size=1, activation='relu')))\n",
    "model.add(TimeDistributed(MaxPooling1D(2)))\n",
    "model.add(TimeDistributed(Conv1D(512, kernel_size=1, activation='relu')))\n",
    "model.add(TimeDistributed(MaxPooling1D(2)))\n",
    "model.add(TimeDistributed(Flatten()))\n",
    "# model.add(Bidirectional(LSTM(200,return_sequences=True)))\n",
    "model.add(Dropout(0.25))\n",
    "# model.add(Bidirectional(LSTM(200,return_sequences=False)))\n",
    "# model.add(Dropout(0.5))\n",
    "model.add(Dense(1, activation='linear'))\n",
    "model.compile(optimizer='RMSprop', loss='mse')\n",
    "model.fit(train_X, train_label, validation_data=(test_X,test_label), epochs=40,batch_size=64,shuffle =False)\n",
    "print(model.evaluate(test_X,test_label))\n",
    "# model.summary()"
   ]
  },
  {
   "cell_type": "code",
   "execution_count": 20,
   "id": "2709b023",
   "metadata": {},
   "outputs": [],
   "source": [
    "def validate_result(model, model_name):\n",
    "    predicted = model.predict(validation_X)\n",
    "    RSME_score = np.sqrt(mean_squared_error(validation_y, predicted))\n",
    "    print('RMSE: ', RSME_score)\n",
    "    \n",
    "    R2_score = r2_score(validation_y, predicted)\n",
    "    print('R2 score: ', R2_score)\n",
    "\n",
    "    plt.plot(validation_y.index, predicted,'r', label='Predict')\n",
    "    plt.plot(validation_y.index, validation_y,'b', label='Actual')\n",
    "    plt.ylabel('Price')\n",
    "    plt.gca().xaxis.set_major_formatter(mdates.DateFormatter('%Y-%m-%d'))\n",
    "    plt.gca().xaxis.set_major_locator(mdates.MonthLocator())\n",
    "    plt.title(model_name + ' Predict vs Actual')\n",
    "    plt.legend(loc='upper right')\n",
    "    plt.show()"
   ]
  },
  {
   "cell_type": "code",
   "execution_count": 21,
   "id": "13641bc6",
   "metadata": {},
   "outputs": [
    {
     "name": "stdout",
     "output_type": "stream",
     "text": [
      "21/21 [==============================] - 0s 4ms/step - loss: 0.0031\n"
     ]
    }
   ],
   "source": [
    "# y_pred_test_lstm = model.predict(test_X)\n",
    "# y_train_pred_lstm = model.predict(train_X)\n",
    "# print(\"The R2 score on the Train set is:\\t{:0.3f}\".format(r2_score(train_label, y_train_pred_lstm)))\n",
    "# r2_train = r2_score(y_train, y_train_pred_lstm)\n",
    "\n",
    "# print(\"The R2 score on the Test set is:\\t{:0.3f}\".format(r2_score(test_label, y_pred_test_lstm)))\n",
    "# r2_test = r2_score(y_test, y_pred_test_lstm)\n",
    "score_lstm= model.evaluate(test_X,test_label)"
   ]
  },
  {
   "cell_type": "code",
   "execution_count": 22,
   "id": "dd327b77",
   "metadata": {},
   "outputs": [
    {
     "data": {
      "image/png": "[encoded data removed]",
      "text/plain": [
       "<Figure size 432x288 with 1 Axes>"
      ]
     },
     "metadata": {
      "needs_background": "light"
     },
     "output_type": "display_data"
    }
   ],
   "source": [
    "predicted  = model.predict(test_X)\n",
    "test_label = (test_label[:,0])\n",
    "predicted = np.array(predicted[:,0]).reshape(-1,1)\n",
    "for j in range(len_t , len_t + len(test_X)):\n",
    "    temp =stock.iloc[j,4]\n",
    "    test_label[j - len_t] = test_label[j - len_t] * temp + temp\n",
    "    predicted[j - len_t] = predicted[j - len_t] * temp + temp\n",
    "plt.plot(test_label, color = 'blue', label = ' Stock Price')\n",
    "plt.plot(predicted, color = 'orange', label = 'Predicted  Stock Price')\n",
    "plt.title(' Stock Price Prediction for Tata Motors')\n",
    "plt.xlabel('Time')\n",
    "plt.ylabel(' Stock Price')\n",
    "plt.legend()\n",
    "plt.show()\n",
    "# predicted  = model.predict(test_X)\n",
    "# test_label[:,0] = y_scaler.inverse_transform(test_label[:,0])\n",
    "# predicted = np.array(predicted[:,0]).reshape(-1,1)\n",
    "# predicted = y_scaler.inverse_transform(predicted)\n",
    "# plt.plot(test_label[:,0], color = 'black', label = ' Stock Price')\n",
    "# plt.plot(predicted, color = 'green', label = 'Predicted  Stock Price')\n",
    "# plt.title(' Stock Price Prediction')\n",
    "# plt.xlabel('Time')\n",
    "# plt.ylabel(' Stock Price')\n",
    "# plt.legend()\n",
    "# plt.show()"
   ]
  },
  {
   "cell_type": "code",
   "execution_count": 23,
   "id": "102e097e",
   "metadata": {},
   "outputs": [],
   "source": [
    "col1 = pd.DataFrame(test_label, columns=['True'])\n",
    "\n",
    "col2 = pd.DataFrame(predicted, columns=['CNN_prediction'])\n",
    "\n",
    "# col3 = pd.DataFrame(history_model_lstm.history['loss'], columns=['Loss_LSTM'])\n",
    "results = pd.concat([col1, col2], axis=1)\n",
    "results.to_excel('PredictionResults_CNN.xlsx')"
   ]
  },
  {
   "cell_type": "code",
   "execution_count": null,
   "id": "48e61b0e",
   "metadata": {},
   "outputs": [],
   "source": []
  }
 ],
 "metadata": {
  "kernelspec": {
   "display_name": "Python 3 (ipykernel)",
   "language": "python",
   "name": "python3"
  },
  "language_info": {
   "codemirror_mode": {
    "name": "ipython",
    "version": 3
   },
   "file_extension": ".py",
   "mimetype": "text/x-python",
   "name": "python",
   "nbconvert_exporter": "python",
   "pygments_lexer": "ipython3",
   "version": "3.8.12"
  }
 },
 "nbformat": 4,
 "nbformat_minor": 5
}
